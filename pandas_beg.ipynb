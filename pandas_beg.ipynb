{
 "cells": [
  {
   "cell_type": "code",
   "execution_count": null,
   "metadata": {},
   "outputs": [],
   "source": [
    "import numpy as np\n",
    "import pandas as pd"
   ]
  },
  {
   "cell_type": "code",
   "execution_count": null,
   "metadata": {},
   "outputs": [],
   "source": [
    "def create_medications(names, counts):\n",
    "    return pd.Series(data=counts, index=names, name=\"medications\")\n",
    "\n",
    "def get_percent(medications, name):\n",
    "    return medications[name] / sum(medications.values) * 100"
   ]
  },
  {
   "cell_type": "code",
   "execution_count": null,
   "metadata": {},
   "outputs": [],
   "source": [
    "names=['chlorhexidine', 'cyntomycin', 'afobazol']\n",
    "counts=[15, 18, 7]\n",
    "\n",
    "med = create_medications(names, counts)\n",
    "perc = get_percent(med, \"chlorhexidine\")\n",
    "\n",
    "print(perc)"
   ]
  },
  {
   "cell_type": "code",
   "execution_count": null,
   "metadata": {},
   "outputs": [],
   "source": [
    "def create_companyDF(income, expenses, years):\n",
    "    return pd.DataFrame({'income': income, 'expenses': expenses}, index=years)\n",
    "\n",
    "def get_profit(df, year):\n",
    "    if year in df.index:\n",
    "        return df.loc[year].income - df.loc[year].expenses\n",
    "    else:\n",
    "        return None"
   ]
  },
  {
   "cell_type": "code",
   "execution_count": null,
   "metadata": {},
   "outputs": [],
   "source": [
    "income = [478, 512, 196]\n",
    "expenses = [156, 130, 270]\n",
    "years = [2018, 2019, 2020]\n",
    "\n",
    "df = create_companyDF(income, expenses, years)\n",
    "\n",
    "print(get_profit(df, 2018))"
   ]
  },
  {
   "cell_type": "markdown",
   "metadata": {},
   "source": [
    "---"
   ]
  },
  {
   "cell_type": "code",
   "execution_count": null,
   "metadata": {},
   "outputs": [],
   "source": [
    "data = pd.read_csv(\"Data/data.csv\", sep=\",\")\n",
    "data['Postcode'] = data['Postcode'].astype('int64')\n",
    "data['Car'] = data['Car'].astype('int64')\n",
    "data['Bedroom'] = data['Bedroom'].astype('int64')\n",
    "data['Bathroom'] = data['Bathroom'].astype('int64')\n",
    "data['Propertycount'] = data['Propertycount'].astype('int64')\n",
    "data['YearBuilt'] = data['YearBuilt'].astype('int64')\n",
    "#data.info()\n",
    "\n",
    "train = data.copy()"
   ]
  },
  {
   "cell_type": "code",
   "execution_count": null,
   "metadata": {},
   "outputs": [],
   "source": [
    "data[(data.SellerG == \"Nelson\") & (data.Price > 3_000_000)].shape\n",
    "data[(data.Price < 1_000_000) & ((data.Rooms > 5) | (data.YearBuilt > 2015))].Price.mean()\n",
    "data[(data.Type == \"h\") & (data.Price < 3_000_000)].Regionname.value_counts()"
   ]
  },
  {
   "cell_type": "code",
   "execution_count": null,
   "metadata": {},
   "outputs": [],
   "source": [
    "train.drop(['index','Coordinates'],axis=1,inplace=True) # duplicates the Lattitude and Longtitude\n",
    "total_rooms = train['Rooms'] + train['Bedroom'] + train['Bathroom'] # total rooms from Bathrooms and Bedrooms\n",
    "\n",
    "train['MeanRoomsSquare'] = train['BuildingArea'] / total_rooms # mean rooms square\n",
    "diff_area = train['BuildingArea'] - train['Landsize']\n",
    "sum_area = train['BuildingArea'] + train['Landsize']\n",
    "train['AreaRatio'] = diff_area/sum_area # ratio of building area to landsize \n",
    "\n",
    "train['Date'] = pd.to_datetime(train['Date'])\n",
    "\n",
    "train['AgeBuilding'] = train['Date'].dt.year - train['YearBuilt'] \n",
    "train.drop('YearBuilt', axis=1, inplace=True) #remove duplicate \n",
    "\n",
    "train['WeekdaySale'] = train[\"Date\"].dt.weekday # on which day of the week the sale happened\n",
    "train['MonthSale'] = train['Date'].dt.month # on which month the sale happened\n",
    "train[\"Weekend\"] = train[\"WeekdaySale\"].apply(lambda cell: 1 if cell in [5, 6] else 0) # 0 if not on weekends, 1 - otherwise\n",
    "#train[train[\"Weekend\"] == 1][\"Price\"].mean()\n",
    "\n",
    "values = train[\"SellerG\"].value_counts().nlargest(49).index\n",
    "train[\"SellerG\"] = train[\"SellerG\"].apply(lambda cell: cell if cell in values else \"other\") # narrow down the number of unique values\n",
    "#train[train[\"SellerG\"] == \"Nelson\"][\"Price\"].min() / train[train[\"SellerG\"] == \"other\"][\"Price\"].min()\n",
    "\n",
    "def get_street_type(address):\n",
    "    exclude_list = ['N', 'S', 'W', 'E']\n",
    "    address_list = address.split(' ')\n",
    "    street_type = address_list[-1]\n",
    "    if street_type in exclude_list:\n",
    "        street_type = address_list[-2]\n",
    "    return street_type\n",
    "\n",
    "street_types = train['Address'].apply(get_street_type)\n",
    "popular_stypes = street_types.value_counts().nlargest(10).index\n",
    "train['StreetType'] = street_types.apply(lambda x: x if x in popular_stypes else 'other')\n",
    "\n",
    "train.drop('Address', axis=1, inplace=True)\n",
    "\n",
    "popular_subtype = train[\"Suburb\"].value_counts().nlargest(119).index\n",
    "train[\"Suburb\"] = train[\"Suburb\"].apply(lambda cell: cell if cell in popular_subtype else \"other\")\n",
    "\n",
    "# unique_list = []\n",
    "# for col in train.columns:\n",
    "#     item = (col, train[col].nunique(),train[col].dtype) \n",
    "#     unique_list.append(item) \n",
    "# unique_counts = pd.DataFrame(\n",
    "#     unique_list,\n",
    "#     columns=['Column_Name', 'Num_Unique', 'Type']\n",
    "# ).sort_values(by='Num_Unique',  ignore_index=True)"
   ]
  },
  {
   "cell_type": "code",
   "execution_count": null,
   "metadata": {},
   "outputs": [],
   "source": [
    "cols_to_exclude = ['Date', 'Rooms', 'Bedroom', 'Bathroom', 'Car'] # список столбцов, которые мы не берём во внимание\n",
    "max_unique_count = 150 # задаём максимальное число уникальных категорий\n",
    "for col in train.columns: # цикл по именам столбцов\n",
    "    if train[col].nunique() < max_unique_count and col not in cols_to_exclude: # проверяем условие\n",
    "        train[col] = train[col].astype('category') # преобразуем тип столбца\n",
    "\n",
    "train[\"Suburb\"] = train[\"Suburb\"].astype(\"category\")"
   ]
  },
  {
   "cell_type": "code",
   "execution_count": null,
   "metadata": {},
   "outputs": [],
   "source": [
    "train.info()"
   ]
  },
  {
   "cell_type": "code",
   "execution_count": null,
   "metadata": {},
   "outputs": [],
   "source": [
    "#all(map(lambda col: col in train.columns, []))\n",
    "countries_df = pd.DataFrame({\n",
    "    'country': ['Англия', 'Канада', 'США', 'Россия', 'Украина', 'Беларусь', 'Казахстан'],\n",
    "    'population': [56.29, 38.05, 322.28, 146.24, 45.5, 9.5, 17.04],\n",
    "    'square': [133396, 9984670, 9826630, 17125191, 603628, 207600, 2724902]\n",
    "})\n",
    "countries_df[\"density\"] = countries_df[\"population\"] * 1_000_000 / countries_df[\"square\"]\n",
    "countries_df[\"density\"].mean()\n"
   ]
  },
  {
   "cell_type": "code",
   "execution_count": null,
   "metadata": {},
   "outputs": [],
   "source": [
    "ufo = pd.read_csv(\"data/ufo.csv\", sep=\",\")\n",
    "ufo[\"Time\"] = pd.to_datetime(ufo[\"Time\"])\n",
    "days = ufo[ufo[\"State\"] == \"NV\"].Time.dt.date\n",
    "days.diff().dt.days.mean()"
   ]
  },
  {
   "cell_type": "code",
   "execution_count": null,
   "metadata": {},
   "outputs": [],
   "source": [
    "students = pd.read_csv(\"data/students.csv\")\n",
    "students.info()\n",
    "\n",
    "students[\"math score\"].mean()\n",
    "students[\"race/ethnicity\"].value_counts(normalize=True)\n",
    "students[students[\"test preparation course\"] == \"completed\"][\"reading score\"].mean()\n",
    "students[students[\"math score\"] == 0].shape\n",
    "students[students[\"race/ethnicity\"] == \"group A\"][\"writing score\"].median() - students[students[\"race/ethnicity\"] == \"group C\"][\"writing score\"].mean()\n",
    "students[students[\"parental level of education\"] == \"bachelor's degree\"].shape[0] / students.shape[0]\n",
    "students[students[\"lunch\"] == \"free/reduced\"][\"math score\"].mean()\n",
    "students[students[\"lunch\"] == \"standard\"][\"math score\"].mean()"
   ]
  },
  {
   "cell_type": "code",
   "execution_count": null,
   "metadata": {},
   "outputs": [],
   "source": [
    "import re\n",
    "\n",
    "experience_col = pd.Series([\n",
    "        'Опыт работы 8 лет 3 месяца',\n",
    "        'Опыт работы 3 года 5 месяцев',\n",
    "        'Опыт работы 1 год 9 месяцев',\n",
    "        'Опыт работы 3 месяца',\n",
    "        'Опыт работы 6 лет'\n",
    "        ])\n",
    "for cell in experience_col:\n",
    "    total = 0\n",
    "    years = re.search(r\"\\d+ (лет|год)\", cell)\n",
    "    months = re.search(r\"\\d+ месяц\", cell)\n",
    "    if years is not None:\n",
    "        total += int(years.group().split()[0]) * 12\n",
    "    if months is not None:\n",
    "        total += int(months.group().split()[0])\n",
    "    print(total)"
   ]
  },
  {
   "cell_type": "code",
   "execution_count": null,
   "metadata": {},
   "outputs": [],
   "source": [
    "bike = pd.read_csv(\"data/citybike.csv\")\n",
    "bike.info()"
   ]
  },
  {
   "cell_type": "code",
   "execution_count": null,
   "metadata": {},
   "outputs": [],
   "source": [
    "def to_time_of_day(cell):\n",
    "    day_time = str()\n",
    "    if cell > 18:\n",
    "        day_time = \"evening\"\n",
    "    elif cell > 12:\n",
    "        day_time = \"day\"\n",
    "    elif cell > 6:\n",
    "        day_time = \"morning\"\n",
    "    else:\n",
    "        day_time = \"night\"\n",
    "    return day_time\n",
    "    \n",
    "\n",
    "bike.drop([\"end station id\", \"start station id\"], axis=1, inplace=True)\n",
    "\n",
    "bike[\"age\"] = bike[\"birth year\"].apply(lambda cell: 2018 - cell)\n",
    "bike.drop([\"birth year\"], axis=1, inplace=True)\n",
    "\n",
    "bike[\"trip duration\"] = (pd.to_datetime(bike[\"stoptime\"]) - pd.to_datetime(bike[\"starttime\"])).dt.seconds\n",
    "#bike.drop([\"starttime\", \"stoptime\"], axis=1, inplace=True)\n",
    "\n",
    "bike[\"weekend\"] = pd.to_datetime(bike[\"starttime\"]).dt.weekday.apply(lambda cell: 1 if cell in [5,6] else 0)\n",
    "bike[\"time_of_day\"] = pd.to_datetime(bike[\"starttime\"]).dt.hour.apply(to_time_of_day)"
   ]
  },
  {
   "cell_type": "code",
   "execution_count": null,
   "metadata": {},
   "outputs": [],
   "source": [
    "bike.isnull().sum()\n",
    "bike[\"bikeid\"].value_counts()\n",
    "bike[\"usertype\"].value_counts(normalize=True)\n",
    "bike[\"gender\"].value_counts()\n",
    "bike[\"birth year\"].max()\n",
    "bike[\"end station name\"].value_counts()\n",
    "bike[bike[\"age\"] > 60].shape\n",
    "bike[\"trip duration\"].mean()"
   ]
  },
  {
   "cell_type": "code",
   "execution_count": null,
   "metadata": {},
   "outputs": [],
   "source": [
    "bike[bike[\"time_of_day\"] == \"day\"].shape[0] / bike[bike[\"time_of_day\"] == \"night\"].shape[0]"
   ]
  }
 ],
 "metadata": {
  "interpreter": {
   "hash": "005d508735c64ef2549a4285bde8b924c2e8283ea6a839e46d9c1db76ebd1f6a"
  },
  "kernelspec": {
   "display_name": "Python 3.9.7 64-bit ('sf': conda)",
   "language": "python",
   "name": "python3"
  },
  "language_info": {
   "codemirror_mode": {
    "name": "ipython",
    "version": 3
   },
   "file_extension": ".py",
   "mimetype": "text/x-python",
   "name": "python",
   "nbconvert_exporter": "python",
   "pygments_lexer": "ipython3",
   "version": "3.9.7"
  },
  "orig_nbformat": 4
 },
 "nbformat": 4,
 "nbformat_minor": 2
}
