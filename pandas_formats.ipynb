{
 "cells": [
  {
   "cell_type": "code",
   "execution_count": 10,
   "metadata": {},
   "outputs": [],
   "source": [
    "import pandas as pd\n",
    "from chardet.universaldetector import UniversalDetector\n",
    "import json\n",
    "from collections import Counter\n",
    "from pprint import pprint"
   ]
  },
  {
   "cell_type": "markdown",
   "metadata": {},
   "source": [
    "# Formats"
   ]
  },
  {
   "cell_type": "markdown",
   "metadata": {},
   "source": [
    "## Text Files"
   ]
  },
  {
   "cell_type": "code",
   "execution_count": 11,
   "metadata": {},
   "outputs": [],
   "source": [
    "data = pd.read_csv(\"./Data/countries.csv\", sep=\";\")\n",
    "#data.to_csv(\"./Data/countries.txt\", index=False, sep=\" \")\n",
    "#data_txt = pd.read_table(\"./Data/countries.txt\", sep=\" \", index_col=[\"country\"])\n",
    "#display(data)"
   ]
  },
  {
   "cell_type": "code",
   "execution_count": 12,
   "metadata": {},
   "outputs": [],
   "source": [
    "data = pd.read_table('https://raw.githubusercontent.com/esabunor/MLWorkspace/master/melb_data.csv', sep=',')\n",
    "#display(data)"
   ]
  },
  {
   "cell_type": "markdown",
   "metadata": {},
   "source": [
    "## Excel (XLS & XLSX)"
   ]
  },
  {
   "cell_type": "code",
   "execution_count": 13,
   "metadata": {},
   "outputs": [],
   "source": [
    "data = pd.read_excel('Data/grades.xlsx', sheet_name='Maths')\n",
    "#data.to_excel('Data/grades_new.xlsx', sheet_name='Example', index=False)\n",
    "#display(data)"
   ]
  },
  {
   "cell_type": "code",
   "execution_count": 14,
   "metadata": {},
   "outputs": [],
   "source": [
    "data = pd.read_excel('https://github.com/asaydn/test/raw/master/january.xlsx')\n",
    "#display(data)"
   ]
  },
  {
   "cell_type": "code",
   "execution_count": 15,
   "metadata": {},
   "outputs": [
    {
     "name": "stdout",
     "output_type": "stream",
     "text": [
      "<class 'pandas.core.frame.DataFrame'>\n",
      "Int64Index: 100836 entries, 0 to 100835\n",
      "Data columns (total 6 columns):\n",
      " #   Column     Non-Null Count   Dtype  \n",
      "---  ------     --------------   -----  \n",
      " 0   userId     100836 non-null  int64  \n",
      " 1   movieId    100836 non-null  int64  \n",
      " 2   rating     100836 non-null  float64\n",
      " 3   timestamp  100836 non-null  int64  \n",
      " 4   title      100836 non-null  object \n",
      " 5   genres     100836 non-null  object \n",
      "dtypes: float64(1), int64(3), object(2)\n",
      "memory usage: 5.4+ MB\n"
     ]
    }
   ],
   "source": [
    "ratings = pd.read_excel(\"Data/ratings+movies.xlsx\", sheet_name=\"ratings\")\n",
    "movies  = pd.read_excel(\"Data/ratings+movies.xlsx\", sheet_name=\"movies\")\n",
    "\n",
    "#display(ratings.head())\n",
    "#display(movies.head())\n",
    "\n",
    "ratings.merge(movies).info()"
   ]
  },
  {
   "cell_type": "markdown",
   "metadata": {},
   "source": [
    "## JSON"
   ]
  },
  {
   "cell_type": "code",
   "execution_count": 27,
   "metadata": {},
   "outputs": [],
   "source": [
    "with open(\"Data/recipes.json\") as f:\n",
    "    recipes = json.load(f)\n",
    "\n",
    "cuisines = set()\n",
    "for recipe in recipes:\n",
    "    cuisines.add(recipe[\"cuisine\"])\n",
    "#print(len(cuisines))\n",
    "\n",
    "cunt = {}\n",
    "for recipe in recipes:\n",
    "    if recipe[\"cuisine\"] in cunt:\n",
    "        cunt[recipe[\"cuisine\"]] += 1\n",
    "    else:\n",
    "        cunt.setdefault(recipe[\"cuisine\"], 1)\n",
    "#print(cunt)\n",
    "\n",
    "#data_d = pd.DataFrame(recipes)\n",
    "#display(data_d)\n",
    "\n",
    "data = pd.read_json(\"Data/recipes.json\")\n",
    "#data.info()\n",
    "#display(data)\n",
    "#data.to_csv('recipes.csv', index = False)"
   ]
  },
  {
   "cell_type": "code",
   "execution_count": 28,
   "metadata": {},
   "outputs": [
    {
     "name": "stderr",
     "output_type": "stream",
     "text": [
      "/var/folders/vh/gf47g5dj2xd1lzf700bp08bw0000gn/T/ipykernel_99723/1900198295.py:6: PerformanceWarning: DataFrame is highly fragmented.  This is usually the result of calling `frame.insert` many times, which has poor performance.  Consider joining all columns at once using pd.concat(axis=1) instead.  To get a de-fragmented frame, use `newframe = frame.copy()`\n",
      "  data[ing] = data[\"ingredients\"].apply(lambda x: 1 if ing in x else 0)\n"
     ]
    }
   ],
   "source": [
    "all_ingredients = set()\n",
    "for recipe in recipes:\n",
    "    all_ingredients.update(recipe[\"ingredients\"])\n",
    "\n",
    "for ing in all_ingredients:\n",
    "    data[ing] = data[\"ingredients\"].apply(lambda x: 1 if ing in x else 0)\n",
    "    \n",
    "data[\"ingredients\"] = data[\"ingredients\"].apply(len)"
   ]
  },
  {
   "cell_type": "code",
   "execution_count": 30,
   "metadata": {},
   "outputs": [],
   "source": [
    "ingredients = list(data.columns[3:])\n",
    "\n",
    "def make_list(row):\n",
    "    return [ing for ing in ingredients if int(row[ing]) == 1] \n",
    "\n",
    "new_recipes = [] \n",
    "for current_id in list(data[\"id\"].unique()):\n",
    "    cuisine = data[data['id'] == current_id]['cuisine'].iloc[0] \n",
    "    current_ingredients = make_list(data[data['id'] == current_id]) \n",
    "    current_recipe = {'cuisine': cuisine, 'id': int(current_id), 'ingredients': current_ingredients} \n",
    "    new_recipes.append(current_recipe)"
   ]
  },
  {
   "cell_type": "markdown",
   "metadata": {},
   "source": [
    "# Encoding"
   ]
  },
  {
   "cell_type": "code",
   "execution_count": 16,
   "metadata": {},
   "outputs": [],
   "source": [
    "detector = UniversalDetector()\n",
    "with open('Data/ErrorEnCoding.csv', 'rb') as fh:\n",
    "    for line in fh:\n",
    "        detector.feed(line)\n",
    "        if detector.done:\n",
    "            break\n",
    "detector.close()\n",
    "\n",
    "data = pd.read_csv(\"./Data/ErrorEnCoding.csv\", header=None, encoding=\"KOI8-R\")\n",
    "#display(data)"
   ]
  }
 ],
 "metadata": {
  "interpreter": {
   "hash": "aee8b7b246df8f9039afb4144a1f6fd8d2ca17a180786b69acc140d282b71a49"
  },
  "kernelspec": {
   "display_name": "Python 3.9.9 64-bit",
   "language": "python",
   "name": "python3"
  },
  "language_info": {
   "codemirror_mode": {
    "name": "ipython",
    "version": 3
   },
   "file_extension": ".py",
   "mimetype": "text/x-python",
   "name": "python",
   "nbconvert_exporter": "python",
   "pygments_lexer": "ipython3",
   "version": "3.9.7"
  },
  "orig_nbformat": 4
 },
 "nbformat": 4,
 "nbformat_minor": 2
}
