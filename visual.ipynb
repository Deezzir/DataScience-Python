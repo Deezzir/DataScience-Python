{
 "cells": [
  {
   "cell_type": "code",
   "execution_count": null,
   "metadata": {},
   "outputs": [],
   "source": [
    "import pandas as pd\n",
    "import matplotlib.pyplot as plt\n",
    "from collections import Counter\n",
    "%matplotlib inline"
   ]
  },
  {
   "cell_type": "code",
   "execution_count": null,
   "metadata": {},
   "outputs": [],
   "source": [
    "covid_m = pd.read_csv(\"data/covid/covid_data.csv\")\n",
    "vax_m = pd.read_csv(\"data/covid/country_vaccinations.csv\")\n",
    "\n",
    "covid = covid_m.copy()\n",
    "vax = vax_m.copy()"
   ]
  },
  {
   "cell_type": "code",
   "execution_count": null,
   "metadata": {},
   "outputs": [],
   "source": [
    "covid = covid.groupby(\n",
    "    [\"date\", \"country\"],\n",
    "    as_index=False\n",
    ")[[\"confirmed\", \"deaths\", \"recovered\"]].sum()\n",
    "\n",
    "covid[\"date\"] = pd.to_datetime(covid[\"date\"])\n",
    "covid[\"active\"] = covid[\"confirmed\"] - covid[\"deaths\"] - covid[\"recovered\"]\n",
    "\n",
    "covid = covid.sort_values(by=[\"country\", \"date\"])\n",
    "covid[\"daily_confirmed\"] = covid.groupby(by=\"country\")[\"confirmed\"].diff()\n",
    "covid[\"daily_deaths\"] = covid.groupby(by=\"country\")[\"deaths\"].diff()\n",
    "covid[\"daily_recovered\"] = covid.groupby(by=\"country\")[\"recovered\"].diff()"
   ]
  },
  {
   "cell_type": "code",
   "execution_count": null,
   "metadata": {},
   "outputs": [],
   "source": [
    "vax[\"date\"] = pd.to_datetime(vax[\"date\"])\n",
    "vax = vax[\n",
    "    ['country', 'date', 'total_vaccinations', \n",
    "     'people_vaccinated', 'people_vaccinated_per_hundred',\n",
    "     'people_fully_vaccinated', 'people_fully_vaccinated_per_hundred',\n",
    "     'daily_vaccinations', 'vaccines']\n",
    "]\n",
    "\n",
    "# print(vax[\"date\"].max())\n",
    "# print(vax[\"date\"].min())"
   ]
  },
  {
   "cell_type": "code",
   "execution_count": null,
   "metadata": {},
   "outputs": [],
   "source": [
    "covid_df = covid.merge(vax, on=[\"date\", \"country\"], how=\"left\")\n",
    "covid_df[\"death_rate\"] = covid_df[\"deaths\"] / covid_df[\"confirmed\"] * 100\n",
    "covid_df[\"recover_rate\"] = covid_df[\"recovered\"] / covid_df[\"confirmed\"] * 100"
   ]
  },
  {
   "cell_type": "code",
   "execution_count": null,
   "metadata": {},
   "outputs": [],
   "source": [
    "covid_df[covid_df[\"country\"] == \"Russia\"][\"recover_rate\"].mean()"
   ]
  },
  {
   "cell_type": "markdown",
   "metadata": {},
   "source": [
    "---"
   ]
  },
  {
   "cell_type": "markdown",
   "metadata": {},
   "source": [
    "# PANDAS PLOT()"
   ]
  },
  {
   "cell_type": "code",
   "execution_count": null,
   "metadata": {},
   "outputs": [],
   "source": [
    "grouped_cases = covid_df.groupby('date')['daily_confirmed'].sum()\n",
    "grouped_cases.plot(\n",
    "    kind='line',\n",
    "    figsize=(12, 4),\n",
    "    title='Ежедневная заболеваемость по всем странам',\n",
    "    grid = True,\n",
    "    lw=3\n",
    ");"
   ]
  },
  {
   "cell_type": "code",
   "execution_count": null,
   "metadata": {},
   "outputs": [],
   "source": [
    "grouped_cases.plot(\n",
    "    kind='hist',\n",
    "    figsize=(10, 6),\n",
    "    title='Распределение ежедневной заболеваемости',\n",
    "    grid = True,\n",
    "    color = 'black',\n",
    "    bins=10\n",
    ");"
   ]
  },
  {
   "cell_type": "code",
   "execution_count": null,
   "metadata": {},
   "outputs": [],
   "source": [
    "grouped_country = covid_df.groupby(['country'])['confirmed'].last()\n",
    "grouped_country = grouped_country.nlargest(10)\n",
    "grouped_country.plot(\n",
    "    kind='bar',\n",
    "    grid=True,\n",
    "    figsize=(12, 4),\n",
    "    colormap='plasma'\n",
    ");"
   ]
  },
  {
   "cell_type": "code",
   "execution_count": null,
   "metadata": {},
   "outputs": [],
   "source": [
    "grouped_country = covid_df.groupby(['country'])[['confirmed', 'deaths']].last()\n",
    "grouped_country = grouped_country.nlargest(10, columns=['confirmed'])\n",
    "grouped_country.plot( \n",
    "    kind='bar', \n",
    "    grid=True, \n",
    "    figsize=(12, 4), \n",
    ");"
   ]
  },
  {
   "cell_type": "code",
   "execution_count": null,
   "metadata": {},
   "outputs": [],
   "source": [
    "grouped = covid_df.groupby(by=\"country\")[\"total_vaccinations\"].last()\n",
    "grouped = grouped.nsmallest(5)\n",
    "grouped.plot(\n",
    "    kind=\"bar\",\n",
    "    grid=True,\n",
    "    figsize=(12, 4)\n",
    ")"
   ]
  },
  {
   "cell_type": "markdown",
   "metadata": {},
   "source": [
    "# MATPLOTLIB "
   ]
  },
  {
   "cell_type": "code",
   "execution_count": null,
   "metadata": {},
   "outputs": [],
   "source": [
    "fig = plt.figure(figsize=(12, 4))\n",
    "axes1 = fig.add_axes([0, 0, 0.5, 1])\n",
    "axes2 = fig.add_axes([0.5, 0, 0.5, 1])"
   ]
  },
  {
   "cell_type": "code",
   "execution_count": null,
   "metadata": {},
   "outputs": [],
   "source": [
    "us_data = covid_df[covid_df['country'] == 'United States']\n",
    "\n",
    "fig = plt.figure(figsize=(8, 4))\n",
    "axes = fig.add_axes([0, 0, 1, 1])\n",
    "axes.scatter(\n",
    "    x=us_data['people_fully_vaccinated'], \n",
    "    y=us_data['daily_confirmed'], \n",
    "    s=100,\n",
    "    marker='o',\n",
    "    c = 'blue'\n",
    ");"
   ]
  },
  {
   "cell_type": "code",
   "execution_count": null,
   "metadata": {},
   "outputs": [],
   "source": [
    "vaccine_combinations = covid_df['vaccines'].value_counts()[:10]\n",
    "fig = plt.figure(figsize=(5, 5))\n",
    "axes = fig.add_axes([0, 0, 1, 1])\n",
    "axes.pie(\n",
    "    vaccine_combinations,\n",
    "    labels=vaccine_combinations.index,\n",
    "    autopct='%.1f%%',\n",
    "    explode = [0.1, 0, 0, 0, 0, 0, 0, 0, 0, 0]\n",
    ");"
   ]
  },
  {
   "cell_type": "code",
   "execution_count": null,
   "metadata": {},
   "outputs": [],
   "source": [
    "def get_vax_list(arg):\n",
    "    return arg.replace(\" \", \"\").split(\",\")\n",
    "\n",
    "counter = Counter()\n",
    "\n",
    "vax_no_nan = covid_df.dropna(subset=[\"vaccines\"])\n",
    "vax_last = vax_no_nan.groupby(by=\"country\")[\"vaccines\"].last()\n",
    "vax_last.apply(lambda cell: counter.update(get_vax_list(cell)))\n",
    "\n",
    "vaccines = pd.Series(dict(counter)).sort_values(ascending=False)\n",
    "vaccines['other'] = vaccines[7:].sum()\n",
    "vaccines = vaccines.sort_values(ascending=False)[:8]\n",
    "\n",
    "fig = plt.figure(figsize=(5, 5))\n",
    "axes = fig.add_axes([0, 0, 1, 1])\n",
    "axes.pie(\n",
    "    vaccines,\n",
    "    labels=vaccines.index,\n",
    "    autopct='%.1f%%',\n",
    ");\n"
   ]
  },
  {
   "cell_type": "code",
   "execution_count": null,
   "metadata": {},
   "outputs": [],
   "source": [
    "china_data = covid_df[covid_df['country'] == 'China']\n",
    "china_grouped = china_data.groupby(['date'])[['confirmed', 'active', 'deaths', 'recovered']].sum()\n",
    "\n",
    "#визуализация графиков\n",
    "fig = plt.figure(figsize=(10, 4))\n",
    "axes = fig.add_axes([0, 0, 1, 1])\n",
    "axes.plot(china_grouped['confirmed'], label='Общее число зафиксированных случаев', lw=3)\n",
    "axes.plot(china_grouped['deaths'], label='Общее число смертей', lw=3)\n",
    "axes.plot(china_grouped['recovered'], label='Общее число выздоровевших пациентов', lw=3)\n",
    "axes.plot(china_grouped['active'], label='Общее число активных случаев', lw=3, linestyle='dashed')\n",
    "\n",
    "#установка параметров отображения\n",
    "axes.set_title('Статистика Covid-19 в Китае', fontsize=16)\n",
    "axes.set_xlabel('Даты')\n",
    "axes.set_ylabel('Число случаев')\n",
    "axes.set_yticks(range(0, 100000, 10000))\n",
    "axes.xaxis.set_tick_params(rotation=30)\n",
    "axes.grid()\n",
    "axes.legend();"
   ]
  },
  {
   "cell_type": "code",
   "execution_count": null,
   "metadata": {},
   "outputs": [],
   "source": [
    "vacc_country = covid_df.groupby('country')['people_fully_vaccinated'].last().nlargest(5)\n",
    "vacc_country_per_hundred = covid_df.groupby('country')['people_fully_vaccinated_per_hundred'].last().nlargest(5)\n",
    "\n",
    "#визуализация главного графика\n",
    "fig = plt.figure(figsize=(13, 4))\n",
    "main_axes = fig.add_axes([0, 0, 1, 1])\n",
    "main_axes.bar(x = vacc_country.index, height = vacc_country);\n",
    "main_axes.set_ylabel('Число вакцинированных (2 компонент)')\n",
    "main_axes.set_title('Топ 5 стран по числу полностью привитых людей')\n",
    "\n",
    "#визуализация вспомогательного графика\n",
    "insert_axes = fig.add_axes([0.6, 0.6, 0.38, 0.38])\n",
    "insert_axes.bar(x = vacc_country_per_hundred.index, height = vacc_country_per_hundred, width=0.5);\n",
    "insert_axes.set_ylabel('На 100 человек')\n",
    "insert_axes.xaxis.set_tick_params(rotation=45)"
   ]
  },
  {
   "cell_type": "code",
   "execution_count": null,
   "metadata": {},
   "outputs": [],
   "source": [
    "fig, axes = plt.subplots(nrows=2, ncols=3, figsize=(10, 5))"
   ]
  },
  {
   "cell_type": "code",
   "execution_count": null,
   "metadata": {},
   "outputs": [],
   "source": [
    "data = covid_df[covid_df[\"country\"] == \"Russia\"].groupby(by=\"date\")[[\"daily_vaccinations\", \"daily_confirmed\"]].sum()\n",
    "\n",
    "fig, axes = plt.subplots(nrows=1, ncols=3, figsize=(15, 4))\n",
    "axes[0].bar(\n",
    "    x=data.index,\n",
    "    height=data[\"daily_vaccinations\"],\n",
    "    label=\"Число вакцинированных\"\n",
    ")\n",
    "axes[0].set_title(\"Ежедневная вакцинация в России\")\n",
    "axes[0].xaxis.set_tick_params(rotation=45)\n",
    "\n",
    "axes[1].plot(\n",
    "    data[\"daily_confirmed\"],\n",
    "    label=\"Число заболевших\",\n",
    "    color=\"tomato\",\n",
    "    lw=2\n",
    ")\n",
    "axes[1].set_title(\"Ежедневная заболеваемость в России\")\n",
    "axes[1].xaxis.set_tick_params(rotation=45)\n",
    "\n",
    "axes[2].hist(\n",
    "    x=data[\"daily_confirmed\"],\n",
    "    label=[\"Число заболевших\"],\n",
    "    color=\"lime\",\n",
    "    bins=20\n",
    ")\n",
    "\n",
    "axes[2].set_title(\"Гистограмма заболеваемости в России\")\n",
    "axes[2].xaxis.set_tick_params(rotation=30);"
   ]
  },
  {
   "cell_type": "markdown",
   "metadata": {},
   "source": [
    "# SEABORN"
   ]
  },
  {
   "cell_type": "code",
   "execution_count": null,
   "metadata": {},
   "outputs": [],
   "source": [
    "import seaborn as sns\n",
    "print(sns.__version__)"
   ]
  },
  {
   "cell_type": "code",
   "execution_count": null,
   "metadata": {},
   "outputs": [],
   "source": [
    "countries = ['Russia', 'Australia', 'Germany', 'Canada', 'United Kingdom']\n",
    "croped_covid_df = covid_df[covid_df['country'].isin(countries)]\n",
    "\n",
    "populations = pd.DataFrame([\n",
    "    ['Canada', 37664517],\n",
    "    ['Germany', 83721496],\n",
    "    ['Russia', 145975300],\n",
    "    ['Australia', 25726900],\n",
    "    ['United Kingdom', 67802690]\n",
    "    ],\n",
    "    columns=['country', 'population']\n",
    ")\n",
    "croped_covid_df = croped_covid_df.merge(populations, on=['country'])\n",
    "croped_covid_df['daily_confirmed_per_hundred'] = croped_covid_df['daily_confirmed'] / croped_covid_df['population'] * 100\n",
    "croped_covid_df.head()"
   ]
  },
  {
   "cell_type": "code",
   "execution_count": null,
   "metadata": {},
   "outputs": [],
   "source": [
    "fig, axes = plt.subplots(nrows=2, ncols=1, figsize=(10, 8))\n",
    "sns.histplot(\n",
    "    data=croped_covid_df,\n",
    "    x='daily_confirmed_per_hundred',\n",
    "    bins=25,\n",
    "    kde=True,\n",
    "    ax=axes[0]\n",
    ");\n",
    "axes[0].set_title('Гистограмма ежедневной заболеваемости на 100 человек', fontsize=16)\n",
    "sns.histplot(\n",
    "    data=croped_covid_df,\n",
    "    x='daily_confirmed_per_hundred',\n",
    "    y='country',\n",
    "    bins=25,\n",
    "    color='red',\n",
    "    ax=axes[1]\n",
    ");"
   ]
  },
  {
   "cell_type": "code",
   "execution_count": null,
   "metadata": {},
   "outputs": [],
   "source": [
    "fig = plt.figure(figsize=(10, 7))\n",
    "croped_covid_df['quarter'] = croped_covid_df['date'].dt.quarter\n",
    "barplot = sns.barplot(\n",
    "    data=croped_covid_df,\n",
    "    x='country',\n",
    "    y='daily_confirmed_per_hundred',\n",
    "    hue='quarter',\n",
    ")\n",
    "barplot.set_title('Средний процент болеющего населения по кварталам');"
   ]
  },
  {
   "cell_type": "code",
   "execution_count": null,
   "metadata": {},
   "outputs": [],
   "source": [
    "jointplot = sns.jointplot(\n",
    "    data=croped_covid_df, \n",
    "    x='people_fully_vaccinated_per_hundred', \n",
    "    y='daily_confirmed_per_hundred',\n",
    "    hue='country',\n",
    "    xlim = (0, 40),\n",
    "    ylim = (0, 0.1),\n",
    "    height=8,\n",
    ")"
   ]
  },
  {
   "cell_type": "code",
   "execution_count": null,
   "metadata": {},
   "outputs": [],
   "source": [
    "croped_covid_df['confirmed_per_hundred'] = croped_covid_df['confirmed'] / croped_covid_df['population'] * 100"
   ]
  },
  {
   "cell_type": "code",
   "execution_count": null,
   "metadata": {},
   "outputs": [],
   "source": [
    "pivot = croped_covid_df.pivot_table(\n",
    "    values='confirmed_per_hundred',\n",
    "    columns='date',\n",
    "    index='country',\n",
    ")\n",
    "pivot.columns = pivot.columns.astype('string')\n",
    "heatmap = sns.heatmap(data=pivot, cmap='YlGnBu')\n",
    "heatmap.set_title('Тепловая карта вакцинации', fontsize=16);"
   ]
  },
  {
   "cell_type": "code",
   "execution_count": null,
   "metadata": {},
   "outputs": [],
   "source": [
    "boxplot = sns.boxplot(\n",
    "    data=croped_covid_df,\n",
    "    x='recover_rate',\n",
    "    y='country',\n",
    "    orient='h',\n",
    "    width=0.9\n",
    ")\n",
    "boxplot.grid()"
   ]
  },
  {
   "cell_type": "markdown",
   "metadata": {},
   "source": [
    "# Plotly"
   ]
  },
  {
   "cell_type": "code",
   "execution_count": null,
   "metadata": {},
   "outputs": [],
   "source": [
    "import plotly\n",
    "import plotly.express as px\n",
    "print(plotly.__version__)"
   ]
  },
  {
   "cell_type": "code",
   "execution_count": null,
   "metadata": {},
   "outputs": [],
   "source": [
    "line_data = covid_df.groupby('date', as_index=False).sum()\n",
    "fig = px.line(\n",
    "    data_frame=line_data, #DataFrame\n",
    "    x='date', #ось абсцисс\n",
    "    y=['confirmed', 'recovered', 'deaths', 'active'], #ось ординат\n",
    "    height=500, #высота\n",
    "    width=1000, #ширина\n",
    "    title='Confirmed, Recovered, Deaths, Active cases over Time' #заголовок\n",
    ")\n",
    "# fig.show()"
   ]
  },
  {
   "cell_type": "code",
   "execution_count": null,
   "metadata": {},
   "outputs": [],
   "source": [
    "#считаем среднее ежедневно фиксируемое количество выздоровевших по странам\n",
    "treemap_data = covid_df.groupby(\n",
    "    by='country',\n",
    "    as_index=False\n",
    ")[['daily_recovered']].mean()\n",
    "\n",
    "#строим график\n",
    "fig = px.treemap(\n",
    "    data_frame=treemap_data, #DataFrame\n",
    "    path=['country'], #категориальный признак, для которого строится график\n",
    "    values='daily_recovered', #параметр, который сравнивается\n",
    "    height=500, #высота\n",
    "    width=1000, #ширина\n",
    "    title='Daily Recovered Cases by Country' #заголовок\n",
    ")\n",
    "\n",
    "#отображаем график\n",
    "fig.show()"
   ]
  },
  {
   "cell_type": "code",
   "execution_count": null,
   "metadata": {},
   "outputs": [],
   "source": [
    "plot = covid_df.groupby(\n",
    "    by='date',\n",
    "    as_index=False\n",
    ")[['daily_vaccinations']].sum()\n",
    "\n",
    "fig = px.line(\n",
    "    data_frame=plot,\n",
    "    x='date',\n",
    "    y='daily_vaccinations',\n",
    "    height=500, #высота\n",
    "    width=1000, #ширина\n",
    ")\n",
    "\n",
    "#fig.show()"
   ]
  },
  {
   "cell_type": "code",
   "execution_count": null,
   "metadata": {},
   "outputs": [],
   "source": [
    "plot = covid_df.sort_values(by='date')\n",
    "plot['date'] = plot['date'].astype('string')\n",
    "\n",
    "#строим график\n",
    "fig = px.choropleth(\n",
    "    data_frame=plot, #DataFrame\n",
    "    locations=\"country\", #столбец с локациями\n",
    "    locationmode = \"country names\", #режим сопоставления локаций с базой Plotly\n",
    "    color=\"total_vaccinations\", #от чего зависит цвет\n",
    "    animation_frame=\"date\", #анимационный бегунок\n",
    "    range_color=[0, 30e6], #диапазон цвета\n",
    "    title='Global Spread of COVID-19', #заголовок\n",
    "    width=800, #ширина\n",
    "    height=500, #высота\n",
    "    color_continuous_scale='Reds' #палитра цветов\n",
    ")\n",
    "\n",
    "#отображаем график\n",
    "#fig.show(renderer='notebook')"
   ]
  }
 ],
 "metadata": {
  "interpreter": {
   "hash": "005d508735c64ef2549a4285bde8b924c2e8283ea6a839e46d9c1db76ebd1f6a"
  },
  "kernelspec": {
   "display_name": "Python 3.9.7 64-bit ('sf': conda)",
   "language": "python",
   "name": "python3"
  },
  "language_info": {
   "codemirror_mode": {
    "name": "ipython",
    "version": 3
   },
   "file_extension": ".py",
   "mimetype": "text/x-python",
   "name": "python",
   "nbconvert_exporter": "python",
   "pygments_lexer": "ipython3",
   "version": "3.9.7"
  },
  "orig_nbformat": 4
 },
 "nbformat": 4,
 "nbformat_minor": 2
}
