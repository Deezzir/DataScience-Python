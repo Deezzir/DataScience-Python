{
 "cells": [
  {
   "cell_type": "code",
   "execution_count": 1,
   "metadata": {},
   "outputs": [],
   "source": [
    "import logging\n",
    "import os"
   ]
  },
  {
   "cell_type": "code",
   "execution_count": 6,
   "metadata": {},
   "outputs": [
    {
     "data": {
      "text/plain": [
       "<RootLogger root (INFO)>"
      ]
     },
     "execution_count": 6,
     "metadata": {},
     "output_type": "execute_result"
    }
   ],
   "source": [
    "# Функция для создания лог-файла и записи в него информации\n",
    "def get_logger(path, file):\n",
    "    log_file = os.path.join(path, file)\n",
    "\n",
    "    #если  файла нет, создаем его\n",
    "    if not os.path.isfile(log_file):\n",
    "        open(log_file, \"w+\").close()\n",
    "\n",
    "    # поменяем формат логирования\n",
    "    file_logging_format = \"%(levelname)s: %(asctime)s: %(message)s\"\n",
    "\n",
    "    # конфигурируем лог-файл\n",
    "    logging.basicConfig(level=logging.INFO, \n",
    "    format = file_logging_format)\n",
    "    logger = logging.getLogger()\n",
    "\n",
    "    # создадим хэнлдер для записи лога в файл\n",
    "    handler = logging.FileHandler(log_file)\n",
    "\n",
    "    # установим уровень логирования\n",
    "    handler.setLevel(logging.INFO)\n",
    "\n",
    "    # создадим формат логирования, используя file_logging_format\n",
    "    formatter = logging.Formatter(file_logging_format)\n",
    "    handler.setFormatter(formatter)\n",
    "\n",
    "    # добавим хэндлер лог-файлу\n",
    "    logger.addHandler(handler)\n",
    "    return logger\n",
    "\n",
    "get_logger('./', 'test.txt')"
   ]
  }
 ],
 "metadata": {
  "interpreter": {
   "hash": "005d508735c64ef2549a4285bde8b924c2e8283ea6a839e46d9c1db76ebd1f6a"
  },
  "kernelspec": {
   "display_name": "Python 3.9.7 ('sf')",
   "language": "python",
   "name": "python3"
  },
  "language_info": {
   "codemirror_mode": {
    "name": "ipython",
    "version": 3
   },
   "file_extension": ".py",
   "mimetype": "text/x-python",
   "name": "python",
   "nbconvert_exporter": "python",
   "pygments_lexer": "ipython3",
   "version": "3.9.7"
  },
  "orig_nbformat": 4
 },
 "nbformat": 4,
 "nbformat_minor": 2
}
