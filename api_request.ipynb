{
 "cells": [
  {
   "cell_type": "code",
   "execution_count": 41,
   "metadata": {},
   "outputs": [],
   "source": [
    "import requests\n",
    "from pprint import pprint\n",
    "from bs4 import BeautifulSoup\n",
    "import time"
   ]
  },
  {
   "cell_type": "markdown",
   "metadata": {},
   "source": [
    "# API"
   ]
  },
  {
   "cell_type": "code",
   "execution_count": 6,
   "metadata": {},
   "outputs": [],
   "source": [
    "url = \"https://www.cbr-xml-daily.ru/daily_json.js\"\n",
    "response = requests.get(url)"
   ]
  },
  {
   "cell_type": "code",
   "execution_count": 13,
   "metadata": {},
   "outputs": [
    {
     "name": "stdout",
     "output_type": "stream",
     "text": [
      "200\n",
      "{'CharCode': 'EUR',\n",
      " 'ID': 'R01239',\n",
      " 'Name': 'Евро',\n",
      " 'Nominal': 1,\n",
      " 'NumCode': '978',\n",
      " 'Previous': 132.9581,\n",
      " 'Value': 128.9523}\n",
      "'Чешских крон'\n"
     ]
    }
   ],
   "source": [
    "print(response.status_code)\n",
    "#print(response.text)\n",
    "\n",
    "currencies = response.json()\n",
    "#pprint(currencies)\n",
    "pprint(currencies['Valute']['EUR'])\n",
    "pprint(currencies['Valute']['CZK']['Name'])"
   ]
  },
  {
   "cell_type": "code",
   "execution_count": 37,
   "metadata": {},
   "outputs": [
    {
     "name": "stdout",
     "output_type": "stream",
     "text": [
      "{'male': 216, 'female': 205, 'nment': 79}\n"
     ]
    }
   ],
   "source": [
    "url = 'https://api.vk.com/method/users.get'   \n",
    "ids = \",\".join(map(str, range(1, 501)))\n",
    "token = '30a6d93430a6d93430a6d9345630d65624330a630a6d9346eda072b0faac433ae1f30b7'\n",
    "param = {'user_ids': ids, \n",
    "         'v': 5.95, \n",
    "         'fields': 'sex, bdate', \n",
    "         'access_token': token, \n",
    "         'lang': 'ru'}  \n",
    "users = requests.get(url, params=param).json()['response']\n",
    "#pprint(users)\n",
    "#print(users[0]['first_name'], users[0]['last_name'])\n",
    "\n",
    "genders = {'male': 0, 'female': 0, 'nment': 0}\n",
    "for user in users:\n",
    "    if user['sex'] == 1:\n",
    "        genders['female'] += 1\n",
    "    elif user['sex'] == 2:\n",
    "        genders['male'] += 1\n",
    "    else:\n",
    "        genders['nment'] += 1\n",
    "print(genders)"
   ]
  },
  {
   "cell_type": "code",
   "execution_count": 40,
   "metadata": {},
   "outputs": [
    {
     "data": {
      "text/plain": [
       "1000"
      ]
     },
     "execution_count": 40,
     "metadata": {},
     "output_type": "execute_result"
    }
   ],
   "source": [
    "url = 'https://api.vk.com/method/groups.getMembers'  \n",
    "token = '30a6d93430a6d93430a6d9345630d65624330a630a6d9346eda072b0faac433ae1f30b7'\n",
    "params = {  \n",
    "    'group_id': 'vk',  \n",
    "    'v': 5.95,  \n",
    "    'access_token': token  \n",
    "}  \n",
    "users = requests.get(url, params = params).json()['response']\n",
    "#print(users)  \n",
    "  \n",
    "len(users['items'])  \n",
    "# users_for_checking = data['response']['items'][:20]  \n",
    "# print(users_for_checking)  "
   ]
  },
  {
   "cell_type": "code",
   "execution_count": 42,
   "metadata": {},
   "outputs": [
    {
     "name": "stdout",
     "output_type": "stream",
     "text": [
      "Ожидаю 0.5 секунды...\n",
      "Ожидаю 0.5 секунды...\n",
      "Ожидаю 0.5 секунды...\n",
      "Ожидаю 0.5 секунды...\n",
      "Ожидаю 0.5 секунды...\n",
      "Цикл завершен, offset = 5000\n"
     ]
    }
   ],
   "source": [
    "url = 'https://api.vk.com/method/groups.getMembers' \n",
    "token = '30a6d93430a6d93430a6d9345630d65624330a630a6d9346eda072b0faac433ae1f30b7'\n",
    "count = 1000 \n",
    "offset = 0  \n",
    "user_ids = []  \n",
    "\n",
    "while offset < 5000: \n",
    "    params = {'group_id': 'vk', 'v': 5.95, 'count': count, 'offset': offset, 'access_token': token} \n",
    "    response = requests.get(url, params = params) \n",
    "    data = response.json() \n",
    "    user_ids += data['response']['items'] \n",
    "    offset += count \n",
    "    print('Ожидаю 0.5 секунды...') \n",
    "    time.sleep(0.5) \n",
    "print('Цикл завершен, offset =',offset) "
   ]
  },
  {
   "cell_type": "code",
   "execution_count": 44,
   "metadata": {},
   "outputs": [
    {
     "name": "stdout",
     "output_type": "stream",
     "text": [
      "{'[https://vk.com/checkback#snow': [1599, 3439, 2013, 1642084584],\n",
      " 'ВКонтакте объединяет тысячи та': [198, 681, 209, 1647014396],\n",
      " 'День святого Валентина — повод': [203, 803, 191, 1644840943],\n",
      " 'Запускаем собственное шоу в пе': [112, 2681, 1531, 1640940328],\n",
      " 'Мы приготовили для вас целую г': [176, 4393, 668, 1640712137],\n",
      " 'Нейросети на страже высокого к': [588, 3284, 1041, 1644258069],\n",
      " 'Обидно терять доступ к своим ф': [289, 1674, 3207, 1647194688],\n",
      " 'Объявляем итоги первого розыгр': [678, 2193, 972, 1640871560],\n",
      " 'Продолжаем борьбу со спамом — ': [1077, 2973, 1417, 1645442003],\n",
      " 'Хотите узнать, что в мире прои': [368, 956, 167, 1645013076]}\n"
     ]
    }
   ],
   "source": [
    "url = 'https://api.vk.com/method/wall.get' \n",
    "token = '30a6d93430a6d93430a6d9345630d65624330a630a6d9346eda072b0faac433ae1f30b7'\n",
    "params = {'domain': 'vk', 'filter': 'owner', 'count': 1000, 'offset': 0, 'access_token': token, 'v': 5.95} \n",
    "response = requests.get(url, params = params).json()['response']\n",
    "\n",
    "#pprint(response['items'][0])\n",
    "stats = {} \n",
    "count_post = 0\n",
    "for record in response['items'][:]:\n",
    "    title = record['text'][:30] \n",
    "    if title: \n",
    "        stats[title] = [record['comments']['count'], record['likes']['count'], record['reposts']['count'], record['date']] \n",
    "        count_post += 1 \n",
    "    if count_post < 10: \n",
    "        continue \n",
    "    else: \n",
    "        break \n",
    "pprint(stats)"
   ]
  },
  {
   "cell_type": "markdown",
   "metadata": {},
   "source": [
    "# HTML Parsing"
   ]
  },
  {
   "cell_type": "code",
   "execution_count": 26,
   "metadata": {},
   "outputs": [],
   "source": [
    "url = 'https://nplus1.ru/news/2021/10/11/econobel2021'\n",
    "response = requests.get(url)\n",
    "#print(response.text)\n",
    "\n",
    "page = BeautifulSoup(response.text, 'html.parser') \n",
    "#print(page.title)\n",
    "#print(page.title.text)\n",
    "\n",
    "#print(page.find('h1').text) \n",
    "#print(page.find('time').text)\n",
    "#print(page.find('div', class_='body').text) "
   ]
  },
  {
   "cell_type": "code",
   "execution_count": 28,
   "metadata": {},
   "outputs": [
    {
     "name": "stdout",
     "output_type": "stream",
     "text": [
      "Operating system\n"
     ]
    }
   ],
   "source": [
    "def wiki_header(url):\n",
    "    soup = BeautifulSoup(requests.get(url).text, 'html.parser')\n",
    "    return soup.find(id='firstHeading').text\n",
    "\n",
    "print(wiki_header(\"https://en.wikipedia.org/wiki/Operating_system\"))"
   ]
  }
 ],
 "metadata": {
  "interpreter": {
   "hash": "005d508735c64ef2549a4285bde8b924c2e8283ea6a839e46d9c1db76ebd1f6a"
  },
  "kernelspec": {
   "display_name": "Python 3.9.7 ('sf')",
   "language": "python",
   "name": "python3"
  },
  "language_info": {
   "codemirror_mode": {
    "name": "ipython",
    "version": 3
   },
   "file_extension": ".py",
   "mimetype": "text/x-python",
   "name": "python",
   "nbconvert_exporter": "python",
   "pygments_lexer": "ipython3",
   "version": "3.9.7"
  },
  "orig_nbformat": 4
 },
 "nbformat": 4,
 "nbformat_minor": 2
}
