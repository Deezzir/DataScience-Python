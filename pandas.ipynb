{
 "cells": [
  {
   "cell_type": "code",
   "execution_count": null,
   "metadata": {},
   "outputs": [],
   "source": [
    "import re\n",
    "import pandas as pd"
   ]
  },
  {
   "cell_type": "code",
   "execution_count": null,
   "metadata": {},
   "outputs": [],
   "source": [
    "data = pd.read_csv(\"data/city.csv\")\n",
    "data['Postcode'] = data['Postcode'].astype('int64')\n",
    "data['Car'] = data['Car'].astype('int64')\n",
    "data['Bedroom'] = data['Bedroom'].astype('int64')\n",
    "data['Bathroom'] = data['Bathroom'].astype('int64')\n",
    "data['Propertycount'] = data['Propertycount'].astype('int64')\n",
    "data['YearBuilt'] = data['YearBuilt'].astype('int64')\n",
    "train = data.copy()"
   ]
  },
  {
   "cell_type": "code",
   "execution_count": null,
   "metadata": {},
   "outputs": [],
   "source": [
    "train = train.drop([\"index\", \"Coordinates\"], axis=1)\n",
    "\n",
    "total_rooms = train[\"Bathroom\"] + train[\"Bedroom\"] + train[\"Rooms\"]\n",
    "train[\"MeanRoomsSquare\"] = train[\"BuildingArea\"] / total_rooms\n",
    "\n",
    "area_diff = train[\"BuildingArea\"] - train[\"Landsize\"]\n",
    "area_total = train[\"BuildingArea\"] + train[\"Landsize\"]\n",
    "train[\"AreaRatio\"] = area_diff / area_total\n",
    "\n",
    "train[\"Date\"] = pd.to_datetime(train[\"Date\"])\n",
    "train[\"MonthSale\"] = train[\"Date\"].dt.month\n",
    "train[\"WeekdaySale\"] = train[\"Date\"].dt.weekday\n",
    "train[\"Weekend\"] = train[\"WeekdaySale\"].apply(lambda cell: 1 if cell in [5, 6] else 0)\n",
    "\n",
    "train[\"AgeBuilding\"] = train['Date'].dt.year - train['YearBuilt']\n",
    "train = train.drop(\"YearBuilt\", axis=1)\n",
    "\n",
    "common_sellers = train[\"SellerG\"].value_counts().nlargest(49).index\n",
    "train[\"SellerG\"] = train[\"SellerG\"].apply(lambda cell: cell if cell in common_sellers else \"other\")\n",
    "\n",
    "popular_subtype = train[\"Suburb\"].value_counts().nlargest(119).index\n",
    "train[\"Suburb\"] = train[\"Suburb\"].apply(lambda cell: cell if cell in popular_subtype else \"other\")\n",
    "\n",
    "def get_street_type(address):\n",
    "    exclude_list = ['N', 'S', 'W', 'E']\n",
    "    address_list = address.split(' ')\n",
    "    street_type = address_list[-1]\n",
    "    if street_type in exclude_list:\n",
    "        street_type = address_list[-2]\n",
    "    return street_type\n",
    "\n",
    "street_types = train['Address'].apply(get_street_type)\n",
    "popular_stypes = street_types.value_counts().nlargest(10).index\n",
    "train['StreetType'] = street_types.apply(lambda x: x if x in popular_stypes else 'other')\n",
    "\n",
    "train = train.drop('Address', axis=1)\n",
    "\n",
    "cols_to_exclude = ['Date', 'Rooms', 'Bedroom', 'Bathroom', 'Car'] # список столбцов, которые мы не берём во внимание\n",
    "max_unique_count = 150 # задаём максимальное число уникальных категорий\n",
    "for col in train.columns: # цикл по именам столбцов\n",
    "    if train[col].nunique() < max_unique_count and col not in cols_to_exclude: # проверяем условие\n",
    "        train[col] = train[col].astype('category') # преобразуем тип столбца\n",
    "        \n",
    "train['Type'] = train['Type'].cat.rename_categories({\n",
    "    'u': 'unit',\n",
    "    't': 'townhouse',\n",
    "    'h': 'house'\n",
    "})\n",
    "\n",
    "train.info()"
   ]
  },
  {
   "cell_type": "markdown",
   "metadata": {},
   "source": [
    "# МЕТОД SORT_VALUES()"
   ]
  },
  {
   "cell_type": "code",
   "execution_count": null,
   "metadata": {},
   "outputs": [],
   "source": [
    "mask1 = train['AreaRatio'] < -0.8\n",
    "mask2 = train['Type'] == 'townhouse'\n",
    "mask3 = train['SellerG'] == 'McGrath'\n",
    "train[mask1 & mask2 & mask3].sort_values(\n",
    "    by=['Date', 'AreaRatio'],\n",
    "    ascending=[True, False],\n",
    "    ignore_index=True\n",
    ").loc[:, ['Date', 'AreaRatio']]"
   ]
  },
  {
   "cell_type": "code",
   "execution_count": null,
   "metadata": {},
   "outputs": [],
   "source": [
    "train.sort_values(by=\"AreaRatio\",ignore_index=True, ascending=True).iloc[1557]\n",
    "\n",
    "mask1 = train[\"Type\"] == \"townhouse\"\n",
    "mask2 = train[\"Rooms\"] > 2\n",
    "\n",
    "train[mask1 & mask2].sort_values(\n",
    "    by=[\"Rooms\", \"MeanRoomsSquare\"],\n",
    "    ascending=[True, False],\n",
    "    ignore_index=True\n",
    ").iloc[18]"
   ]
  },
  {
   "cell_type": "markdown",
   "metadata": {},
   "source": [
    "# МЕТОД GROUPBY()"
   ]
  },
  {
   "cell_type": "code",
   "execution_count": null,
   "metadata": {},
   "outputs": [],
   "source": [
    "train.groupby(by='Type').mean()\n",
    "\n",
    "train.groupby(by='Type')['Price'].mean()\n",
    "\n",
    "train.groupby(by='Regionname')['Distance'].min().sort_values(ascending=False)\n",
    "\n",
    "train.groupby('MonthSale')['Price'].agg(\n",
    "    ['count', 'mean', 'max']\n",
    ").sort_values(by='count', ascending=False)\n",
    "\n",
    "train.groupby('MonthSale')['Price'].agg('describe')\n",
    "\n",
    "train.groupby('Regionname')['SellerG'].agg(\n",
    "    \t\t['nunique', set]\n",
    ")"
   ]
  },
  {
   "cell_type": "code",
   "execution_count": null,
   "metadata": {},
   "outputs": [],
   "source": [
    "train.groupby(by=\"Rooms\")[\"Price\"].agg(\n",
    "    [\"mean\"]\n",
    ").sort_values(by=\"mean\", ascending=False)\n",
    "\n",
    "train.groupby(by=\"Regionname\")[\"Lattitude\"].agg(\n",
    "    [\"std\"]    \n",
    ").sort_values(by=\"std\", ascending=True)\n",
    "\n",
    "mask1 = pd.to_datetime(\"2017-05-01\") < train[\"Date\"] \n",
    "mask2 = train[\"Date\"] <= pd.to_datetime(\"2017-09-01\")\n",
    "train[mask1 & mask2].groupby(by=\"SellerG\")[\"Price\"].agg(\n",
    "    [\"sum\"]\n",
    ").sort_values(by=\"sum\", ascending=True)\n",
    "\n",
    "train.groupby(['Rooms'])[['Price', 'BuildingArea']].median()\n",
    "\n",
    "train.groupby(['Rooms', 'Type'])['Price'].mean().unstack()"
   ]
  },
  {
   "cell_type": "markdown",
   "metadata": {},
   "source": [
    "# МЕТОД PIVOT_TABLE() ДЛЯ ПОСТРОЕНИЯ СВОДНЫХ ТАБЛИЦ"
   ]
  },
  {
   "cell_type": "code",
   "execution_count": null,
   "metadata": {},
   "outputs": [],
   "source": [
    "train.pivot_table(\n",
    "    values='Price',\n",
    "    index='Rooms',\n",
    "    columns='Type'\n",
    ").round()\n",
    "\n",
    "train.pivot_table(\n",
    "    values='Price',\n",
    "    index='Regionname',\n",
    "    columns='Weekend',\n",
    "    aggfunc='count',\n",
    ")\n",
    "\n",
    "pivot = train.pivot_table(\n",
    "    values='Landsize',\n",
    "    index='Regionname',\n",
    "    columns='Type',\n",
    "    aggfunc=['median', 'mean'],\n",
    "    fill_value=0\n",
    ")\n",
    "\n",
    "train.pivot_table(\n",
    "    values='Price',\n",
    "    index=['Method','Type'],\n",
    "    columns='Regionname',\n",
    "    aggfunc='median',\n",
    "    fill_value=0\n",
    ")"
   ]
  },
  {
   "cell_type": "code",
   "execution_count": null,
   "metadata": {},
   "outputs": [],
   "source": [
    "pivot.columns\n",
    "display(pivot['mean']['unit'])\n",
    "\n",
    "mask = pivot['mean']['house'] < pivot['median']['house']\n",
    "filtered_pivot = pivot[mask]\n",
    "display(filtered_pivot)"
   ]
  },
  {
   "cell_type": "code",
   "execution_count": null,
   "metadata": {},
   "outputs": [],
   "source": [
    "train.pivot_table(\n",
    "    values=\"Price\",\n",
    "    index=\"SellerG\",\n",
    "    columns=\"Type\",\n",
    "    aggfunc=\"mean\",\n",
    "    fill_value=0\n",
    ").sort_values(by=\"unit\", ascending=False)\n",
    "\n",
    "train.pivot_table(\n",
    "    values=\"BuildingArea\",\n",
    "    index=\"Type\",\n",
    "    columns=\"Rooms\",\n",
    "    aggfunc=\"median\",\n",
    "    fill_value=0\n",
    ")"
   ]
  },
  {
   "cell_type": "markdown",
   "metadata": {},
   "source": [
    "---"
   ]
  },
  {
   "cell_type": "code",
   "execution_count": null,
   "metadata": {},
   "outputs": [],
   "source": [
    "ratings1 = pd.read_csv(\"data/movies_data/ratings1.csv\")\n",
    "ratings2 = pd.read_csv(\"data/movies_data/ratings2.csv\")\n",
    "movies = pd.read_csv(\"data/movies_data/movies.csv\")\n",
    "dates = pd.read_csv(\"data/movies_data/dates.csv\")"
   ]
  },
  {
   "cell_type": "code",
   "execution_count": null,
   "metadata": {},
   "outputs": [],
   "source": [
    "ratings = pd.concat(\n",
    "    [ratings1, ratings2],\n",
    "    ignore_index=True\n",
    ")\n",
    "print('Число строк в таблице ratings: ', ratings.shape[0])\n",
    "print('Число строк в таблице dates: ', dates.shape[0])\n",
    "print(ratings.shape[0] == dates.shape[0])\n",
    "\n",
    "ratings = ratings.drop_duplicates(ignore_index=True)\n",
    "\n",
    "print('Число строк в таблице ratings: ', ratings.shape[0])\n",
    "print('Число строк в таблице dates: ', dates.shape[0])\n",
    "print(ratings.shape[0] == dates.shape[0])\n",
    "\n",
    "ratings_dates = pd.concat([ratings, dates], axis=1)\n"
   ]
  },
  {
   "cell_type": "markdown",
   "metadata": {},
   "source": [
    "# МЕТОД JOIN()"
   ]
  },
  {
   "cell_type": "code",
   "execution_count": null,
   "metadata": {},
   "outputs": [],
   "source": [
    "joined_false = ratings_dates.join(\n",
    "    movies,\n",
    "    rsuffix='_right',\n",
    "    how='left'\n",
    ")\n",
    "display(joined_false)\n",
    "\n",
    "joined = ratings_dates.join(\n",
    "    movies.set_index('movieId'),\n",
    "    on='movieId',\n",
    "    how='left'\n",
    ")\n",
    "display(joined)"
   ]
  },
  {
   "cell_type": "markdown",
   "metadata": {},
   "source": [
    "# МЕТОД MERGE()"
   ]
  },
  {
   "cell_type": "code",
   "execution_count": null,
   "metadata": {},
   "outputs": [],
   "source": [
    "merged = ratings_dates.merge(\n",
    "    movies,\n",
    "    on='movieId',\n",
    "    how='left'\n",
    ")\n",
    "display(merged)\n",
    "\n",
    "merge_ratings = ratings1.merge(ratings2, how='outer')\n",
    "display(merge_ratings)"
   ]
  },
  {
   "cell_type": "code",
   "execution_count": null,
   "metadata": {},
   "outputs": [],
   "source": [
    "\n",
    "items_df = pd.DataFrame({\n",
    "'item_id': [417283, 849734, 132223, 573943, 19475, 3294095, 382043, 302948, 100132, 312394], \n",
    "'vendor': ['Samsung', 'LG', 'Apple', 'Apple', 'LG', 'Apple', 'Samsung', 'Samsung', 'LG', 'ZTE'],\n",
    "'stock_count': [54, 33, 122, 18, 102, 43, 77, 143, 60, 19]\n",
    "})\n",
    "\n",
    "purchase_df = pd.DataFrame({\n",
    "    'purchase_id': [101, 101, 101, 112, 121, 145, 145, 145, 145, 221],\n",
    "    'item_id': [417283, 849734, 132223, 573943, 19475, 3294095, 382043, 302948, 103845, 100132], \n",
    "    'price': [13900, 5330, 38200, 49990, 9890, 33000, 67500, 34500, 89900, 11400]\n",
    "})\n",
    "\n",
    "merged = purchase_df.merge(items_df, on=\"item_id\", how=\"inner\")\n",
    "\n",
    "merged['total'] = merged[\"price\"] * merged[\"stock_count\"]\n",
    "income = merged[\"total\"].sum()\n",
    "\n",
    "print(merged)"
   ]
  },
  {
   "cell_type": "markdown",
   "metadata": {},
   "source": [
    "![img](https://lms.skillfactory.ru/assets/courseware/v1/dd977e42966f3bb21bd5cdd27f91ba39/asset-v1:SkillFactory+DST-3.0+28FEB2021+type@asset+block/dst3-u1-md12_7_10.png)"
   ]
  },
  {
   "cell_type": "markdown",
   "metadata": {},
   "source": [
    "# ПОВТОРЕНИЕ"
   ]
  },
  {
   "cell_type": "code",
   "execution_count": null,
   "metadata": {},
   "outputs": [],
   "source": [
    "def get_year_release(arg):\n",
    "    candidates = re.findall(r'\\(\\d{4}\\)', arg) \n",
    "    if len(candidates) == 0:\n",
    "        return None\n",
    "    year = candidates[0].replace('(', '')\n",
    "    year = year.replace(')', '')\n",
    "    return int(year)\n",
    "\n",
    "merged['year_release'] = merged[\"title\"].apply(get_year_release)\n",
    "\n",
    "merged['year_release'].isnull().sum()\n",
    "\n",
    "#merged[merged[\"year_release\"] == 1999].sort_values(by=\"rating\")\n",
    "merged[merged[\"year_release\"] == 1999].groupby(by=\"title\")['rating'].agg('mean').sort_values()\n",
    "\n",
    "merged[merged[\"year_release\"] == 2010].groupby(by=\"genres\")['rating'].agg(\"mean\").sort_values()\n",
    "\n",
    "merged.groupby(by=\"userId\")[\"genres\"].agg(\n",
    "    [\"nunique\"]\n",
    ").sort_values(by=\"nunique\")\n",
    "\n",
    "merged.groupby(by=\"userId\")[\"rating\"].agg(\n",
    "    [\"count\" ,\"mean\"]\n",
    ").sort_values(by=[\"count\", \"mean\"], ascending=[True, False])\n",
    "\n",
    "merged[merged[\"year_release\"] == 2018].groupby(by=\"genres\")[\"rating\"].agg(\n",
    "    [\"mean\", \"count\"]\n",
    ")\n",
    "\n",
    "merged[\"year_rating\"] = pd.to_datetime(merged[\"date\"]).dt.year\n",
    "merged.pivot_table(\n",
    "    values=\"rating\",\n",
    "    index=\"year_rating\",\n",
    "    columns=\"genres\",\n",
    "    aggfunc=\"mean\",\n",
    "    fill_value=0\n",
    ")"
   ]
  },
  {
   "cell_type": "code",
   "execution_count": null,
   "metadata": {},
   "outputs": [],
   "source": [
    "orders = pd.read_csv(\"data/orders_and_products/orders.csv\", sep=\";\")\n",
    "products = pd.read_csv(\"data/orders_and_products/products.csv\", sep=\";\")\n",
    "\n",
    "orders_products = orders.merge(products, left_on=\"ID товара\", right_on=\"Product_ID\", how=\"left\")\n",
    "orders_products"
   ]
  },
  {
   "cell_type": "code",
   "execution_count": null,
   "metadata": {},
   "outputs": [],
   "source": []
  }
 ],
 "metadata": {
  "interpreter": {
   "hash": "005d508735c64ef2549a4285bde8b924c2e8283ea6a839e46d9c1db76ebd1f6a"
  },
  "kernelspec": {
   "display_name": "Python 3.9.7 64-bit ('sf': conda)",
   "language": "python",
   "name": "python3"
  },
  "language_info": {
   "codemirror_mode": {
    "name": "ipython",
    "version": 3
   },
   "file_extension": ".py",
   "mimetype": "text/x-python",
   "name": "python",
   "nbconvert_exporter": "python",
   "pygments_lexer": "ipython3",
   "version": "3.9.7"
  },
  "orig_nbformat": 4
 },
 "nbformat": 4,
 "nbformat_minor": 2
}
